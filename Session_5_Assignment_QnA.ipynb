{
  "nbformat": 4,
  "nbformat_minor": 0,
  "metadata": {
    "colab": {
      "provenance": []
    },
    "kernelspec": {
      "name": "python3",
      "display_name": "Python 3"
    },
    "language_info": {
      "name": "python"
    }
  },
  "cells": [
    {
      "cell_type": "code",
      "execution_count": 3,
      "metadata": {
        "colab": {
          "base_uri": "https://localhost:8080/"
        },
        "id": "ph6CFbq3kFCl",
        "outputId": "03cafe73-0d46-4cce-a288-327c7ca9e96f"
      },
      "outputs": [
        {
          "output_type": "stream",
          "name": "stdout",
          "text": [
            "The file image.jpg does not exist.\n"
          ]
        }
      ],
      "source": [
        "import numpy as np\n",
        "from PIL import Image\n",
        "import os\n",
        "\n",
        "#Check if the file exist before trying to open it\n",
        "if os.path.exists(\"image.jpg\"):\n",
        "    # Open the image\n",
        "    im = Image.open(\"image.jpg\")\n",
        "\n",
        "    # Convert the image to a numpy array\n",
        "    im_arr = np.array(im)\n",
        "\n",
        "    # Find the minimum and maximum intensity values\n",
        "    min_intensity = np.min(im_arr)\n",
        "    max_intensity = np.max(im_arr)\n",
        "\n",
        "    # Normalize the image\n",
        "    im_norm = (im_arr - min_intensity) / (max_intensity - min_intensity) * 255\n",
        "\n",
        "    # Convert the normalized image back to an image object\n",
        "    im_norm = Image.fromarray(im_norm)\n",
        "\n",
        "    # Save the normalized image\n",
        "    im_norm.save(\"image_norm.jpg\")\n",
        "else:\n",
        "    print(\"The file image.jpg does not exist.\")\n"
      ]
    },
    {
      "cell_type": "code",
      "source": [],
      "metadata": {
        "id": "03C2ZE7omPGa"
      },
      "execution_count": null,
      "outputs": []
    },
    {
      "cell_type": "code",
      "source": [],
      "metadata": {
        "id": "uiiykfhbmPlk"
      },
      "execution_count": null,
      "outputs": []
    }
  ]
}
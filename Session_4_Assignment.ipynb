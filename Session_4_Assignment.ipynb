{
  "nbformat": 4,
  "nbformat_minor": 0,
  "metadata": {
    "colab": {
      "provenance": [],
      "name": "Session 4 - Assignment.ipynb"
    },
    "kernelspec": {
      "name": "python3",
      "display_name": "Python 3"
    },
    "language_info": {
      "name": "python"
    }
  },
  "cells": [
    {
      "cell_type": "code",
      "execution_count": null,
      "metadata": {
        "colab": {
          "base_uri": "https://localhost:8080/"
        },
        "id": "p4Kk-2l_cg1Z",
        "outputId": "8ef4a48d-4694-4461-ee81-c12aa6395797"
      },
      "outputs": [
        {
          "output_type": "stream",
          "name": "stdout",
          "text": [
            "Downloading data from https://www.cs.toronto.edu/~kriz/cifar-10-python.tar.gz\n",
            "170498071/170498071 [==============================] - 2s 0us/step\n"
          ]
        },
        {
          "output_type": "stream",
          "name": "stderr",
          "text": [
            "/usr/local/lib/python3.8/dist-packages/keras/optimizers/optimizer_v2/gradient_descent.py:108: UserWarning: The `lr` argument is deprecated, use `learning_rate` instead.\n",
            "  super(SGD, self).__init__(name, **kwargs)\n"
          ]
        },
        {
          "output_type": "stream",
          "name": "stdout",
          "text": [
            "Epoch 1/20\n",
            "1563/1563 [==============================] - 95s 58ms/step - loss: 1.5850 - accuracy: 0.4238 - val_loss: 1.2203 - val_accuracy: 0.5622\n",
            "Epoch 2/20\n",
            "1563/1563 [==============================] - 86s 55ms/step - loss: 1.2078 - accuracy: 0.5736 - val_loss: 1.0978 - val_accuracy: 0.6130\n",
            "Epoch 3/20\n",
            "1563/1563 [==============================] - 84s 54ms/step - loss: 1.0570 - accuracy: 0.6300 - val_loss: 0.9750 - val_accuracy: 0.6628\n",
            "Epoch 4/20\n",
            "1563/1563 [==============================] - 84s 54ms/step - loss: 0.9496 - accuracy: 0.6684 - val_loss: 0.9488 - val_accuracy: 0.6785\n",
            "Epoch 5/20\n",
            "1563/1563 [==============================] - 87s 56ms/step - loss: 0.8600 - accuracy: 0.6980 - val_loss: 0.9178 - val_accuracy: 0.6839\n",
            "Epoch 6/20\n",
            "1563/1563 [==============================] - 83s 53ms/step - loss: 0.7834 - accuracy: 0.7247 - val_loss: 0.8828 - val_accuracy: 0.6987\n",
            "Epoch 7/20\n",
            "1563/1563 [==============================] - 85s 54ms/step - loss: 0.7047 - accuracy: 0.7532 - val_loss: 0.8760 - val_accuracy: 0.7009\n",
            "Epoch 8/20\n",
            "1563/1563 [==============================] - 87s 56ms/step - loss: 0.6451 - accuracy: 0.7736 - val_loss: 0.8919 - val_accuracy: 0.6991\n",
            "Epoch 9/20\n",
            "1563/1563 [==============================] - 84s 54ms/step - loss: 0.5849 - accuracy: 0.7931 - val_loss: 0.8875 - val_accuracy: 0.7063\n",
            "Epoch 10/20\n",
            "1563/1563 [==============================] - 85s 54ms/step - loss: 0.5359 - accuracy: 0.8127 - val_loss: 0.9428 - val_accuracy: 0.6975\n",
            "313/313 [==============================] - 5s 15ms/step - loss: 0.9428 - accuracy: 0.6975\n",
            "Test loss: 0.9427543878555298\n",
            "Test accuracy: 0.6974999904632568\n"
          ]
        }
      ],
      "source": [
        "import numpy as np\n",
        "import keras\n",
        "from keras.datasets import cifar10\n",
        "from keras.models import Sequential\n",
        "from keras.layers import Dense, Dropout, Flatten\n",
        "from keras.layers import Conv2D, MaxPooling2D\n",
        "from keras.optimizers import SGD\n",
        "from keras.callbacks import EarlyStopping\n",
        "\n",
        "# Load the CIFAR10 dataset\n",
        "(x_train, y_train), (x_test, y_test) = cifar10.load_data()\n",
        "\n",
        "# Normalize data\n",
        "x_train = x_train.astype('float32') / 255\n",
        "x_test = x_test.astype('float32') / 255\n",
        "\n",
        "# One-hot encode the labels\n",
        "y_train = keras.utils.to_categorical(y_train, 10)\n",
        "y_test = keras.utils.to_categorical(y_test, 10)\n",
        "\n",
        "# Create a simple CNN model\n",
        "model = Sequential()\n",
        "model.add(Conv2D(32, (3, 3), activation='relu', input_shape=(32, 32, 3)))\n",
        "model.add(MaxPooling2D(pool_size=(2, 2)))\n",
        "model.add(Conv2D(64, (3, 3), activation='relu'))\n",
        "model.add(MaxPooling2D(pool_size=(2, 2)))\n",
        "model.add(Flatten())\n",
        "model.add(Dense(512, activation='relu'))\n",
        "model.add(Dropout(0.5))\n",
        "model.add(Dense(10, activation='softmax'))\n",
        "\n",
        "# Compile the model\n",
        "sgd = SGD(lr=0.01, decay=1e-6, momentum=0.9, nesterov=True)\n",
        "model.compile(loss='categorical_crossentropy', optimizer=sgd, metrics=['accuracy'])\n",
        "\n",
        "# Use early stopping to prevent overfitting\n",
        "early_stopping = EarlyStopping(monitor='val_loss', patience=3)\n",
        "\n",
        "# Train the model\n",
        "model.fit(x_train, y_train, epochs=20, batch_size=32, validation_data=(x_test, y_test), callbacks=[early_stopping])\n",
        "\n",
        "# Evaluate the model\n",
        "score = model.evaluate(x_test, y_test, batch_size=32)\n",
        "print('Test loss:', score[0])\n",
        "print('Test accuracy:', score[1])\n",
        "\n"
      ]
    }
  ]
}
{
  "nbformat": 4,
  "nbformat_minor": 0,
  "metadata": {
    "colab": {
      "provenance": []
    },
    "kernelspec": {
      "name": "python3",
      "display_name": "Python 3"
    },
    "language_info": {
      "name": "python"
    }
  },
  "cells": [
    {
      "cell_type": "code",
      "execution_count": null,
      "metadata": {
        "id": "-v2cjUsKWzBd"
      },
      "outputs": [],
      "source": [
        "import tensorflow as tf\n",
        "\n",
        "# Create a sequential model\n",
        "model = tf.keras.Sequential()\n",
        "\n",
        "# Add a fully connected layer with 64 neurons and an input shape of (784,)\n",
        "model.add(tf.keras.layers.Dense(64, input_shape=(784,), activation='relu'))\n",
        "\n",
        "# Add another fully connected layer with 32 neurons\n",
        "model.add(tf.keras.layers.Dense(32, activation='relu'))\n",
        "\n",
        "# Add a final fully connected layer with 10 neurons (for 10 classes)\n",
        "model.add(tf.keras.layers.Dense(10, activation='softmax'))\n",
        "\n",
        "# Compile the model with categorical_crossentropy loss and RMSprop optimizer\n",
        "model.compile(loss='categorical_crossentropy', optimizer='rmsprop')\n",
        "\n"
      ]
    },
    {
      "cell_type": "code",
      "source": [
        "pip install deap"
      ],
      "metadata": {
        "colab": {
          "base_uri": "https://localhost:8080/"
        },
        "id": "XVvkXQlDW3yA",
        "outputId": "cac6e82b-9879-43f3-bb1e-ba35ad211c11"
      },
      "execution_count": null,
      "outputs": [
        {
          "output_type": "stream",
          "name": "stdout",
          "text": [
            "Looking in indexes: https://pypi.org/simple, https://us-python.pkg.dev/colab-wheels/public/simple/\n",
            "Collecting deap\n",
            "  Downloading deap-1.3.3-cp38-cp38-manylinux_2_5_x86_64.manylinux1_x86_64.manylinux_2_17_x86_64.manylinux2014_x86_64.whl (139 kB)\n",
            "\u001b[2K     \u001b[90m━━━━━━━━━━━━━━━━━━━━━━━━━━━━━━━━━━━━━━━\u001b[0m \u001b[32m139.9/139.9 KB\u001b[0m \u001b[31m5.9 MB/s\u001b[0m eta \u001b[36m0:00:00\u001b[0m\n",
            "\u001b[?25hRequirement already satisfied: numpy in /usr/local/lib/python3.8/dist-packages (from deap) (1.21.6)\n",
            "Installing collected packages: deap\n",
            "Successfully installed deap-1.3.3\n"
          ]
        }
      ]
    },
    {
      "cell_type": "code",
      "source": [
        "!pip install deap"
      ],
      "metadata": {
        "colab": {
          "base_uri": "https://localhost:8080/"
        },
        "id": "9EJNheVKX0ro",
        "outputId": "391b89b4-f45c-45ff-8d9f-277cb5407b33"
      },
      "execution_count": null,
      "outputs": [
        {
          "output_type": "stream",
          "name": "stdout",
          "text": [
            "Looking in indexes: https://pypi.org/simple, https://us-python.pkg.dev/colab-wheels/public/simple/\n",
            "Requirement already satisfied: deap in /usr/local/lib/python3.8/dist-packages (1.3.3)\n",
            "Requirement already satisfied: numpy in /usr/local/lib/python3.8/dist-packages (from deap) (1.21.6)\n"
          ]
        }
      ]
    },
    {
      "cell_type": "code",
      "source": [
        "import random\n",
        "import numpy as np\n",
        "from deap import base, creator, tools\n",
        "\n",
        "# Define the model and the loss function\n",
        "def model(params):\n",
        "    # Assign the parameters to the model\n",
        "    W1 = params[0]\n",
        "    W2 = params[1]\n",
        "    # Perform some calculations to obtain the output\n",
        "    output = ...\n",
        "    # Calculate the loss\n",
        "    loss = ...\n",
        "    return loss\n",
        "\n",
        "# Define the optimization function\n",
        "def optimize(model):\n",
        "    # Create the DEAP toolbox\n",
        "    toolbox = base.Toolbox()\n",
        "    # Register the model as the evaluation function\n",
        "    toolbox.register(\"evaluate\", model)\n",
        "    # Define the individual and population\n",
        "    creator.create(\"FitnessMin\", base.Fitness, weights=(-1.0,))\n",
        "    creator.create(\"Individual\", list, fitness=creator.FitnessMin)\n",
        "    toolbox.register(\"population\", tools.initRepeat, list, toolbox.individual)\n",
        "    # Define the genetic operators\n"
      ],
      "metadata": {
        "id": "R0WPCG-iYDwO"
      },
      "execution_count": null,
      "outputs": []
    },
    {
      "cell_type": "code",
      "source": [
        "import tensorflow as tf\n",
        "\n",
        "# Create a sequential model\n",
        "model = tf.keras.Sequential()\n",
        "\n",
        "# Add a fully connected layer with 64 neurons and an input shape of (784,)\n",
        "model.add(tf.keras.layers.Dense(64, input_shape=(784,), activation='linear'))\n",
        "\n",
        "# Add another fully connected layer with 32 neurons\n",
        "model.add(tf.keras.layers.Dense(32, activation='linear'))\n",
        "\n",
        "# Add another fully connected layer with 16 neurons\n",
        "model.add(tf.keras.layers.Dense(16, activation='linear'))\n",
        "\n",
        "# Add a final fully connected layer with 10 neurons (for 10 classes)\n",
        "model.add(tf.keras.layers.Dense(10, activation='linear'))\n",
        "\n",
        "# Compile the model with mean squared error loss and RMSprop optimizer\n",
        "model.compile(loss='mse', optimizer='rmsprop')\n"
      ],
      "metadata": {
        "id": "LmBv3nlRY0pu"
      },
      "execution_count": null,
      "outputs": []
    }
  ]
}